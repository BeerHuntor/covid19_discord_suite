{
 "cells": [
  {
   "cell_type": "code",
   "execution_count": 3,
   "metadata": {},
   "outputs": [],
   "source": [
    "import os\n",
    "from requests import get\n",
    "from json import dumps\n",
    "import json\n",
    "from urllib.parse import urlencode\n",
    "\n"
   ]
  },
  {
   "cell_type": "code",
   "execution_count": 4,
   "metadata": {},
   "outputs": [],
   "source": [
    "pwd = os.getcwd()\n",
    "filepath = (pwd + f\"/data_sets/\")"
   ]
  },
  {
   "cell_type": "code",
   "execution_count": 5,
   "metadata": {},
   "outputs": [],
   "source": [
    "ENDPOINT = \"https://api.coronavirus.data.gov.uk/v1/data\"\n",
    "AREA_TYPE = 'nation'\n",
    "AREA_NAME = 'england'"
   ]
  },
  {
   "cell_type": "code",
   "execution_count": 87,
   "metadata": {},
   "outputs": [],
   "source": [
    "filters = [f\"areaType={AREA_TYPE}\", f\"areaName={AREA_NAME}\"]\n",
    "\n",
    "total_case_data_structure = {\n",
    "    \"date\" : \"date\",\n",
    "    \"area\" : \"areaName\",\n",
    "    \"total_cases\" : \"cumCasesByPublishDate\",\n",
    "    \"case_rate_per_100k\" : \"cumCasesByPublishDateRate\",\n",
    "    \"death_28_days\": \"cumDeaths28DaysByPublishDate\",\n",
    "    \"death_rate\" : \"cumDeath28DaysByPublishDateRate\",\n",
    "    \"cases_by_age\" : \"cumCasesByAge\",\n",
    "    \"cum_male_cases\" : \"maleCases\",\n",
    "    \"cum_female_cases\" : \"femaleCases\"    \n",
    "}\n",
    "    #\"total_deaths\" : \"cumDeathsByDate\",\n",
    "\n",
    "hospital_data_structure = {\n",
    "\n",
    "    \"date\" : \"date\",\n",
    "    \"area\" : \"areaName\",\n",
    "    \"patients_in_hospital\" : \"hospitalCases\",\n",
    "    \"people_on_vents\" : \"covidOccupiedMVBeds\",\n",
    "    \"total_hospitalisations\" : 'cumAdmissions',\n",
    "    \"hos_by_age\" : \"cumAdmissionsByAge\", \n",
    "\n",
    "}\n",
    "\n",
    "demographic_sex_death_data_structure = {\n",
    "\n",
    "    \"date\" : \"date\", \n",
    "    \"area\" : \"areaName\",\n",
    "    \"female_deaths\" : \"femaleDeaths\",\n",
    "    \"male_deaths\" : \"maleDeaths\"\n",
    "}\n",
    "\n",
    "new_case_data_structure = {\n",
    "    \"date\" : \"data\",\n",
    "    \"area\" : \"areaName\",\n",
    "    \"new_cases\" : \"newCasesByPublishDate\",\n",
    "    \"new_change\" : \"newCasesByPublishDateChange\",\n",
    "    \"new_percentage_change\" : \"newCasesByPublishDatePercentageChange\",\n",
    "    \"new_cases_rolling_rate\" : \"newCasesByPublishDateRollingRate\",\n",
    "    \"new_deaths\" : \"newDeath28DaysByPublishDate\",\n",
    "    \"new_d_change\" : \"newDeath28DaysByPublishDateChange\",\n",
    "    \"new_d_percentage_change\" : \"newDeaths28DaysByPublishDateChangePercentage\" ,\n",
    "    \"new_d_rolling_rate\" : \"newDeaths28DaysByDeathRollingRate\",\n",
    "    \"new_d_by_age\" : \"newDeaths28DaysByDeathDateAgeDemographics\"\n",
    "}\n",
    "\n",
    "api_params = {\n",
    "    \"filters\": str.join(\";\", filters),\n",
    "    #\"structure\" : dumps(structure, separators=(\",\", \":\")),\n",
    "    #\"latestBy\" : \"cumCasesByPublishDate\"\n",
    "}\n",
    "formats = {\n",
    "    \"json\"\n",
    "}\n",
    "\n",
    "data_structures = {\"total_case_data\" : total_case_data_structure, \"hospital_data\" : hospital_data_structure, \"demographic_sex_death_data\" : demographic_sex_death_data_structure, \"new_case_data\" : new_case_data_structure}\n",
    "\n",
    "encoded_params = urlencode(api_params)\n",
    "\n",
    "#print(f\"/v1/data?{encoded_params }\")"
   ]
  },
  {
   "cell_type": "code",
   "execution_count": 104,
   "metadata": {},
   "outputs": [],
   "source": [
    "def get_data():\n",
    "   for key, value in data_structures.items():\n",
    "      api_params[\"structure\"] = dumps(value, separators=(\",\", \":\"))\n",
    "      print(api_params[\"structure\"])\n",
    "      (f\"Data being processed for: {key}\")\n",
    "      for fmt in formats:\n",
    "         api_params[\"format\"] = fmt\n",
    "         response = get(ENDPOINT, params=api_params, timeout=10)\n",
    "         print(response.url)\n",
    "         if response.status_code >= 400:\n",
    "            raise RuntimeError(f'Request Failed: {response.text}')\n",
    "\n",
    "         #print(response.url)\n",
    "         try:\n",
    "            data = response.content.decode()\n",
    "         except ValueError:\n",
    "            pass\n",
    "      return data"
   ]
  },
  {
   "cell_type": "code",
   "execution_count": 85,
   "metadata": {},
   "outputs": [],
   "source": [
    "def save_to_file(name='', fmat=''):\n",
    "    with open(filepath + name + '.' + fmat, 'a') as file:\n",
    "        json.dump(get_data(), file)"
   ]
  },
  {
   "cell_type": "code",
   "execution_count": 105,
   "metadata": {},
   "outputs": [
    {
     "name": "stdout",
     "output_type": "stream",
     "text": [
      "{\"date\":\"date\",\"area\":\"areaName\",\"total_cases\":\"cumCasesByPublishDate\",\"case_rate_per_100k\":\"cumCasesByPublishDateRate\",\"death_28_days\":\"cumDeaths28DaysByPublishDate\",\"death_rate\":\"cumDeath28DaysByPublishDateRate\",\"cases_by_age\":\"cumCasesByAge\",\"cum_male_cases\":\"maleCases\",\"cum_female_cases\":\"femaleCases\"}\n",
      "https://api.coronavirus.data.gov.uk/v1/data?filters=areaType%3Dnation%3BareaName%3Dengland&structure=%7B%22date%22%3A%22date%22%2C%22area%22%3A%22areaName%22%2C%22total_cases%22%3A%22cumCasesByPublishDate%22%2C%22case_rate_per_100k%22%3A%22cumCasesByPublishDateRate%22%2C%22death_28_days%22%3A%22cumDeaths28DaysByPublishDate%22%2C%22death_rate%22%3A%22cumDeath28DaysByPublishDateRate%22%2C%22cases_by_age%22%3A%22cumCasesByAge%22%2C%22cum_male_cases%22%3A%22maleCases%22%2C%22cum_female_cases%22%3A%22femaleCases%22%7D&format=json\n"
     ]
    },
    {
     "ename": "RuntimeError",
     "evalue": "Request Failed: {\"response\":\"Invalid structure. The structure must be a flat (non-nested) JSON object. Make sure you use double quotation marks in the structure.\",\"status_code\":400,\"status\":\"Bad request\"}",
     "output_type": "error",
     "traceback": [
      "\u001b[1;31m---------------------------------------------------------------------------\u001b[0m",
      "\u001b[1;31mRuntimeError\u001b[0m                              Traceback (most recent call last)",
      "\u001b[1;32m~\\AppData\\Local\\Temp/ipykernel_6428/2629170947.py\u001b[0m in \u001b[0;36m<module>\u001b[1;34m\u001b[0m\n\u001b[0;32m      1\u001b[0m \u001b[1;32mfor\u001b[0m \u001b[0mkey\u001b[0m \u001b[1;32min\u001b[0m \u001b[0mdata_structures\u001b[0m\u001b[1;33m:\u001b[0m\u001b[1;33m\u001b[0m\u001b[1;33m\u001b[0m\u001b[0m\n\u001b[0;32m      2\u001b[0m \u001b[1;33m\u001b[0m\u001b[0m\n\u001b[1;32m----> 3\u001b[1;33m     \u001b[0msave_to_file\u001b[0m\u001b[1;33m(\u001b[0m\u001b[0mkey\u001b[0m\u001b[1;33m,\u001b[0m \u001b[1;34m'.json'\u001b[0m\u001b[1;33m)\u001b[0m\u001b[1;33m\u001b[0m\u001b[1;33m\u001b[0m\u001b[0m\n\u001b[0m",
      "\u001b[1;32m~\\AppData\\Local\\Temp/ipykernel_6428/3387836331.py\u001b[0m in \u001b[0;36msave_to_file\u001b[1;34m(name, fmat)\u001b[0m\n\u001b[0;32m      1\u001b[0m \u001b[1;32mdef\u001b[0m \u001b[0msave_to_file\u001b[0m\u001b[1;33m(\u001b[0m\u001b[0mname\u001b[0m\u001b[1;33m=\u001b[0m\u001b[1;34m''\u001b[0m\u001b[1;33m,\u001b[0m \u001b[0mfmat\u001b[0m\u001b[1;33m=\u001b[0m\u001b[1;34m''\u001b[0m\u001b[1;33m)\u001b[0m\u001b[1;33m:\u001b[0m\u001b[1;33m\u001b[0m\u001b[1;33m\u001b[0m\u001b[0m\n\u001b[0;32m      2\u001b[0m     \u001b[1;32mwith\u001b[0m \u001b[0mopen\u001b[0m\u001b[1;33m(\u001b[0m\u001b[0mfilepath\u001b[0m \u001b[1;33m+\u001b[0m \u001b[0mname\u001b[0m \u001b[1;33m+\u001b[0m \u001b[1;34m'.'\u001b[0m \u001b[1;33m+\u001b[0m \u001b[0mfmat\u001b[0m\u001b[1;33m,\u001b[0m \u001b[1;34m'a'\u001b[0m\u001b[1;33m)\u001b[0m \u001b[1;32mas\u001b[0m \u001b[0mfile\u001b[0m\u001b[1;33m:\u001b[0m\u001b[1;33m\u001b[0m\u001b[1;33m\u001b[0m\u001b[0m\n\u001b[1;32m----> 3\u001b[1;33m         \u001b[0mjson\u001b[0m\u001b[1;33m.\u001b[0m\u001b[0mdump\u001b[0m\u001b[1;33m(\u001b[0m\u001b[0mget_data\u001b[0m\u001b[1;33m(\u001b[0m\u001b[1;33m)\u001b[0m\u001b[1;33m,\u001b[0m \u001b[0mfile\u001b[0m\u001b[1;33m)\u001b[0m\u001b[1;33m\u001b[0m\u001b[1;33m\u001b[0m\u001b[0m\n\u001b[0m",
      "\u001b[1;32m~\\AppData\\Local\\Temp/ipykernel_6428/2436254329.py\u001b[0m in \u001b[0;36mget_data\u001b[1;34m()\u001b[0m\n\u001b[0;32m      9\u001b[0m          \u001b[0mprint\u001b[0m\u001b[1;33m(\u001b[0m\u001b[0mresponse\u001b[0m\u001b[1;33m.\u001b[0m\u001b[0murl\u001b[0m\u001b[1;33m)\u001b[0m\u001b[1;33m\u001b[0m\u001b[1;33m\u001b[0m\u001b[0m\n\u001b[0;32m     10\u001b[0m          \u001b[1;32mif\u001b[0m \u001b[0mresponse\u001b[0m\u001b[1;33m.\u001b[0m\u001b[0mstatus_code\u001b[0m \u001b[1;33m>=\u001b[0m \u001b[1;36m400\u001b[0m\u001b[1;33m:\u001b[0m\u001b[1;33m\u001b[0m\u001b[1;33m\u001b[0m\u001b[0m\n\u001b[1;32m---> 11\u001b[1;33m             \u001b[1;32mraise\u001b[0m \u001b[0mRuntimeError\u001b[0m\u001b[1;33m(\u001b[0m\u001b[1;34mf'Request Failed: {response.text}'\u001b[0m\u001b[1;33m)\u001b[0m\u001b[1;33m\u001b[0m\u001b[1;33m\u001b[0m\u001b[0m\n\u001b[0m\u001b[0;32m     12\u001b[0m \u001b[1;33m\u001b[0m\u001b[0m\n\u001b[0;32m     13\u001b[0m          \u001b[1;31m#print(response.url)\u001b[0m\u001b[1;33m\u001b[0m\u001b[1;33m\u001b[0m\u001b[0m\n",
      "\u001b[1;31mRuntimeError\u001b[0m: Request Failed: {\"response\":\"Invalid structure. The structure must be a flat (non-nested) JSON object. Make sure you use double quotation marks in the structure.\",\"status_code\":400,\"status\":\"Bad request\"}"
     ]
    }
   ],
   "source": [
    "for key in data_structures:\n",
    "\n",
    "    save_to_file(key, '.json')"
   ]
  },
  {
   "cell_type": "code",
   "execution_count": 9,
   "metadata": {},
   "outputs": [],
   "source": [
    "# _json=json.loads(open(filepath + 'base_total_cases_data.json', 'r').read(), object_pairs_hook=OrderedDict) \n",
    "# out=open('base_total_cases_csv', 'w')\n",
    "# writer = csv.writer(out)               #create a csv.write\n",
    "# writer.writerow(_json[0].keys())      # header row\n",
    "# for row in _json:\n",
    "#     writer.writerow(row.values())"
   ]
  }
 ],
 "metadata": {
  "interpreter": {
   "hash": "6180266b96e5d68251ba877e2f7e9407e638de689775c4774b9b7388b1dfb47e"
  },
  "kernelspec": {
   "display_name": "Python 3.9.7 64-bit ('base': conda)",
   "name": "python3"
  },
  "language_info": {
   "codemirror_mode": {
    "name": "ipython",
    "version": 3
   },
   "file_extension": ".py",
   "mimetype": "text/x-python",
   "name": "python",
   "nbconvert_exporter": "python",
   "pygments_lexer": "ipython3",
   "version": "3.9.7"
  },
  "orig_nbformat": 4
 },
 "nbformat": 4,
 "nbformat_minor": 2
}
