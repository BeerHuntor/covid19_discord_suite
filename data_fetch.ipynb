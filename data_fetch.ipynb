{
 "cells": [
  {
   "cell_type": "code",
   "execution_count": 63,
   "metadata": {},
   "outputs": [],
   "source": [
    "import os\n",
    "from requests import get\n",
    "from json import dumps\n",
    "import json"
   ]
  },
  {
   "cell_type": "code",
   "execution_count": 2,
   "metadata": {},
   "outputs": [],
   "source": [
    "pwd = os.getcwd()\n",
    "filepath = (pwd + \"/data_sets/raw_data_sets/\")"
   ]
  },
  {
   "cell_type": "code",
   "execution_count": 3,
   "metadata": {},
   "outputs": [],
   "source": [
    "ENDPOINT = \"https://api.coronavirus.data.gov.uk/v1/data\"\n",
    "AREA_TYPE = 'nation'\n",
    "AREA_NAME = ['england', 'scotland', 'wales', 'northern ireland']\n",
    "fltr = [] # Empty list to loop though our areas for download."
   ]
  },
  {
   "cell_type": "markdown",
   "metadata": {},
   "source": [
    "### URL STRUCTURES FOR METRICS IN EACH FILE - CATAGORIZED BY:  \n",
    "- Total Cumalitive Cases, \n",
    "- Hospital Data, \n",
    "- Death's Broken Down By Sex (ENG DATA ONLY), \n",
    "- New Daily Cases"
   ]
  },
  {
   "cell_type": "code",
   "execution_count": 129,
   "metadata": {},
   "outputs": [],
   "source": [
    "# Total Case Metrics Up To Todays Date\n",
    "total_case_data_structure = {\n",
    "    \"date\" : \"date\",\n",
    "    \"area\" : \"areaName\",\n",
    "    \"total_cases\" : \"cumCasesByPublishDate\",\n",
    "    \"case_rate_per_100k\" : \"cumCasesByPublishDateRate\",\n",
    "    \"death_28_days\" : \"cumDeaths28DaysByPublishDate\",\n",
    "    \"death_rate\" : \"cumDeaths28DaysByPublishDateRate\",\n",
    "    \"cum_male_cases\" : \"maleCases\",\n",
    "    \"cum_female_cases\" : \"femaleCases\"\n",
    "}\n",
    "\n",
    "# Total Current Hospital Data including total admissions and current admisions\n",
    "hospital_data_structure = {\n",
    "\n",
    "    \"date\" : \"date\",\n",
    "    \"area\" : \"areaName\",\n",
    "    \"patients_in_hospital\" : \"hospitalCases\",\n",
    "    \"people_on_vents\" : \"covidOccupiedMVBeds\",\n",
    "    \"total_hospitalisations\" : \"cumAdmissions\",\n",
    "    \"hos_by_age\" : \"cumAdmissionsByAge\", \n",
    "\n",
    "}\n",
    "\n",
    "# Due to this data only producing 1 Dates worth of breakdown - Ive put it on its own structure - makes it easier to break down later\n",
    "demographic_sex_death_data_structure = {\n",
    "\n",
    "    \"date\" : \"date\", \n",
    "    \"area\" : \"areaName\",\n",
    "    \"female_28_days\" : \"femaleDeaths28Days\",\n",
    "    \"male_deaths_28_days\" : \"maleDeaths28Days\"\n",
    "}\n",
    "\n",
    "# New Cases From day of request\n",
    "new_case_data_structure = {\n",
    "    \"date\" : \"date\",\n",
    "    \"area\" : \"areaName\",\n",
    "    \"new_cases\" : \"newCasesByPublishDate\",\n",
    "    \"new_change\" : \"newCasesByPublishDateChange\",\n",
    "    \"new_percentage_change\" : \"newCasesByPublishDateChangePercentage\",\n",
    "    \"new_cases_rolling_rate\" : \"newCasesByPublishDateRollingRate\",\n",
    "    \"new_deaths\" : \"newDeaths28DaysByPublishDate\",\n",
    "    \"new_d_change\" : \"newDeaths28DaysByPublishDateChange\",\n",
    "    \"new_d_percentage_change\" : \"newDeaths28DaysByPublishDateChangePercentage\" ,\n",
    "    \"new_d_rolling_rate\" : \"newDeaths28DaysByDeathDateRollingRate\",\n",
    "    \"new_d_by_age\" : \"newDeaths28DaysByDeathDateAgeDemographics\"\n",
    "}\n",
    "# Set API_params via calls to functions. \n",
    "api_params = {\n",
    "    \n",
    "}\n",
    "# Formats we are getting in the request - sticking with json as it seems easiest\n",
    "formats = {\n",
    "    \"json\"\n",
    "}\n",
    "\n",
    "# Dict_dict to loop through the url structures and pass them into the get() request\n",
    "data_structures = {\"total_case_data\" : total_case_data_structure, \"hospital_data\" : hospital_data_structure, \"demographic_sex_death_data\" : demographic_sex_death_data_structure, \"new_case_data\" : new_case_data_structure}"
   ]
  },
  {
   "cell_type": "code",
   "execution_count": 139,
   "metadata": {},
   "outputs": [],
   "source": [
    "def change_area():\n",
    "    for area in AREA_NAME:\n",
    "        fltr = [f\"areaType={AREA_TYPE}\", f\"areaName={area}\"]\n",
    "        for name, value in data_structures.items():\n",
    "            dmp = dumps(value, separators=(\",\", \":\"))\n",
    "            save_to_file(dmp, fltr, name, f'_{area}.json')"
   ]
  },
  {
   "cell_type": "code",
   "execution_count": 133,
   "metadata": {},
   "outputs": [],
   "source": [
    "def fetch_data(dmp, fltr):\n",
    "   api_params[\"structure\"] = dmp\n",
    "   api_params['filters'] = str.join(\";\", fltr)\n",
    "   for fmt in formats:\n",
    "      api_params[\"format\"] = fmt\n",
    "      response = get(ENDPOINT, params=api_params, timeout=10)\n",
    "      \n",
    "      if response.status_code >= 400:\n",
    "         raise RuntimeError(f'Request Failed: {response.text}')\n",
    "\n",
    "      try:\n",
    "         data = response.json()\n",
    "      except ValueError:\n",
    "         return\n",
    "   return data"
   ]
  },
  {
   "cell_type": "code",
   "execution_count": 7,
   "metadata": {},
   "outputs": [],
   "source": [
    "def save_to_file(dmp, fltr, name='', fmat=''):\n",
    "    with open(filepath + name + fmat, 'a') as file:\n",
    "        json.dump(fetch_data(dmp, fltr), file, indent=4)"
   ]
  },
  {
   "cell_type": "code",
   "execution_count": 134,
   "metadata": {},
   "outputs": [],
   "source": [
    "def combine_files():\n",
    "    folder = filepath\n",
    "\n",
    "    total_cases = []\n",
    "    new_cases = []\n",
    "    hospital = []\n",
    "\n",
    "    for f in os.listdir(folder):\n",
    "        filename = os.fsencode(f)\n",
    "        if filename.startswith(b'hospital'):\n",
    "            hospital.append(f)\n",
    "        if filename.startswith(b\"total\"):\n",
    "            total_cases.append(f)\n",
    "        if filename.startswith(b\"new\"):\n",
    "            new_cases.append(f)    \n",
    "\n",
    "\n",
    "    #for tc in total_cases:\n",
    "    merge_json(total_cases, 'combined_total_cases_data')\n",
    "    # for ho in hospital:\n",
    "    #     merge_json(ho, 'combined_hospital_data')\n",
    "    # for nc in new_cases:\n",
    "    #     merge_json(nc, 'combined_new_cases_data')\n",
    "    "
   ]
  },
  {
   "cell_type": "code",
   "execution_count": 135,
   "metadata": {},
   "outputs": [],
   "source": [
    "def merge_json(filename, resultingName):\n",
    "    result = list()\n",
    "\n",
    "    for f1 in filename: \n",
    "        with open(filepath + f1, 'r') as infile:\n",
    "            result.extend(json.load(infile))\n",
    "\n",
    "    with open(filepath + resultingName + '.json', 'w') as output_file:\n",
    "        json.dump(result, output_file, indent=4)"
   ]
  },
  {
   "cell_type": "code",
   "execution_count": 136,
   "metadata": {},
   "outputs": [],
   "source": [
    "def download_data():\n",
    "    change_area()\n",
    "    #combine_files()"
   ]
  },
  {
   "cell_type": "code",
   "execution_count": 141,
   "metadata": {},
   "outputs": [],
   "source": [
    "combine_files()"
   ]
  }
 ],
 "metadata": {
  "interpreter": {
   "hash": "6180266b96e5d68251ba877e2f7e9407e638de689775c4774b9b7388b1dfb47e"
  },
  "kernelspec": {
   "display_name": "Python 3.9.7 64-bit ('base': conda)",
   "name": "python3"
  },
  "language_info": {
   "codemirror_mode": {
    "name": "ipython",
    "version": 3
   },
   "file_extension": ".py",
   "mimetype": "text/x-python",
   "name": "python",
   "nbconvert_exporter": "python",
   "pygments_lexer": "ipython3",
   "version": "3.9.7"
  },
  "orig_nbformat": 4
 },
 "nbformat": 4,
 "nbformat_minor": 2
}
