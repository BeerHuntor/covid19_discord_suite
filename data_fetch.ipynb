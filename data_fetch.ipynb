{
 "cells": [
  {
   "cell_type": "code",
   "execution_count": 2,
   "metadata": {},
   "outputs": [],
   "source": [
    "import os\n",
    "from requests import get\n",
    "from json import dumps\n",
    "import json\n",
    "from urllib.parse import urlencode\n"
   ]
  },
  {
   "cell_type": "code",
   "execution_count": 3,
   "metadata": {},
   "outputs": [],
   "source": [
    "pwd = os.getcwd()\n",
    "filepath = (pwd + f\"/data_sets/\")"
   ]
  },
  {
   "cell_type": "code",
   "execution_count": 18,
   "metadata": {},
   "outputs": [],
   "source": [
    "ENDPOINT = \"https://api.coronavirus.data.gov.uk/v1/data\"\n",
    "AREA_TYPE = 'nation'\n",
    "AREA_NAME = 'england'"
   ]
  },
  {
   "cell_type": "code",
   "execution_count": 19,
   "metadata": {},
   "outputs": [],
   "source": [
    "filters = [f\"areaType={AREA_TYPE}\", f\"areaName={AREA_NAME}\"]\n",
    "\n",
    "# Total Case Metrics Up To Todays Date\n",
    "total_case_data_structure = {\n",
    "    \"date\" : \"date\",\n",
    "    \"area\" : \"areaName\",\n",
    "    \"total_cases\" : \"cumCasesByPublishDate\",\n",
    "    \"case_rate_per_100k\" : \"cumCasesByPublishDateRate\",\n",
    "    \"death_28_days\" : \"cumDeaths28DaysByPublishDate\",\n",
    "    \"death_rate\" : \"cumDeaths28DaysByPublishDateRate\",\n",
    "    \"cum_male_cases\" : \"maleCases\",\n",
    "    \"cum_female_cases\" : \"femaleCases\"\n",
    "}\n",
    "\n",
    "# Total Current Hospital Data including total admissions and current admisions\n",
    "hospital_data_structure = {\n",
    "\n",
    "    \"date\" : \"date\",\n",
    "    \"area\" : \"areaName\",\n",
    "    \"patients_in_hospital\" : \"hospitalCases\",\n",
    "    \"people_on_vents\" : \"covidOccupiedMVBeds\",\n",
    "    \"total_hospitalisations\" : \"cumAdmissions\",\n",
    "    \"hos_by_age\" : \"cumAdmissionsByAge\", \n",
    "\n",
    "}\n",
    "\n",
    "# Due to this data only producing 1 Dates worth of breakdown - Ive put it on its own structure - makes it easier to break down later\n",
    "demographic_sex_death_data_structure = {\n",
    "\n",
    "    \"date\" : \"date\", \n",
    "    \"area\" : \"areaName\",\n",
    "    \"female_28_days\" : \"femaleDeaths28Days\",\n",
    "    \"male_deaths_28_days\" : \"maleDeaths28Days\"\n",
    "}\n",
    "\n",
    "# New Cases From day of request\n",
    "new_case_data_structure = {\n",
    "    \"date\" : \"date\",\n",
    "    \"area\" : \"areaName\",\n",
    "    \"new_cases\" : \"newCasesByPublishDate\",\n",
    "    \"new_change\" : \"newCasesByPublishDateChange\",\n",
    "    \"new_percentage_change\" : \"newCasesByPublishDateChangePercentage\",\n",
    "    \"new_cases_rolling_rate\" : \"newCasesByPublishDateRollingRate\",\n",
    "    \"new_deaths\" : \"newDeaths28DaysByPublishDate\",\n",
    "    \"new_d_change\" : \"newDeaths28DaysByPublishDateChange\",\n",
    "    \"new_d_percentage_change\" : \"newDeaths28DaysByPublishDateChangePercentage\" ,\n",
    "    \"new_d_rolling_rate\" : \"newDeaths28DaysByDeathDateRollingRate\",\n",
    "    \"new_d_by_age\" : \"newDeaths28DaysByDeathDateAgeDemographics\"\n",
    "}\n",
    "# Set API_params via calls to functions. \n",
    "api_params = {\n",
    "    \"filters\": str.join(\";\", filters),\n",
    "    \n",
    "}\n",
    "formats = {\n",
    "    \"json\"\n",
    "}\n",
    "\n",
    "data_structures = {\"total_case_data\" : total_case_data_structure, \"hospital_data\" : hospital_data_structure, \"demographic_sex_death_data\" : demographic_sex_death_data_structure, \"new_case_data\" : new_case_data_structure}\n",
    "\n",
    "encoded_params = urlencode(api_params)\n",
    "\n"
   ]
  },
  {
   "cell_type": "code",
   "execution_count": 11,
   "metadata": {},
   "outputs": [],
   "source": [
    "def get_data(dmp):\n",
    "\n",
    "   api_params[\"structure\"] = dmp\n",
    "   #print(api_params[\"structure\"])\n",
    "   for fmt in formats:\n",
    "      api_params[\"format\"] = fmt\n",
    "      response = get(ENDPOINT, params=api_params, timeout=10)\n",
    "      #print(response.url)\n",
    "      if response.status_code >= 400:\n",
    "         raise RuntimeError(f'Request Failed: {response.text}')\n",
    "      #print(response.url)\n",
    "      try:\n",
    "         data = response.json()\n",
    "      except ValueError:\n",
    "         pass\n",
    "   return data"
   ]
  },
  {
   "cell_type": "code",
   "execution_count": 14,
   "metadata": {},
   "outputs": [],
   "source": [
    "def save_to_file(dmp, name='', fmat=''):\n",
    "    with open(filepath + name + fmat, 'a') as file:\n",
    "        json.dump(get_data(dmp), file, indent=4)"
   ]
  },
  {
   "cell_type": "code",
   "execution_count": 20,
   "metadata": {},
   "outputs": [
    {
     "name": "stdout",
     "output_type": "stream",
     "text": [
      "saving file: total_case_data\n",
      "saving file: hospital_data\n",
      "saving file: demographic_sex_death_data\n",
      "saving file: new_case_data\n"
     ]
    }
   ],
   "source": [
    "for key, value in data_structures.items():\n",
    "    dmp = dumps(value, separators=(\",\", \":\"))\n",
    "    #print(f\"saving file: {key}\")\n",
    "    save_to_file(dmp, key, '.json')"
   ]
  }
 ],
 "metadata": {
  "interpreter": {
   "hash": "6180266b96e5d68251ba877e2f7e9407e638de689775c4774b9b7388b1dfb47e"
  },
  "kernelspec": {
   "display_name": "Python 3.9.7 64-bit ('base': conda)",
   "name": "python3"
  },
  "language_info": {
   "codemirror_mode": {
    "name": "ipython",
    "version": 3
   },
   "file_extension": ".py",
   "mimetype": "text/x-python",
   "name": "python",
   "nbconvert_exporter": "python",
   "pygments_lexer": "ipython3",
   "version": "3.9.7"
  },
  "orig_nbformat": 4
 },
 "nbformat": 4,
 "nbformat_minor": 2
}
